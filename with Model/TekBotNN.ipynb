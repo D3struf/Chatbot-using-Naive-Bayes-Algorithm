{
 "cells": [
  {
   "cell_type": "code",
   "execution_count": 1,
   "metadata": {},
   "outputs": [],
   "source": [
    "import nltk\n",
    "import json\n",
    "from nltk.corpus import wordnet\n",
    "from nltk.stem import WordNetLemmatizer\n",
    "import numpy as np\n",
    "import torch\n",
    "import torch.nn as nn\n",
    "import torch.optim as optim\n",
    "from torch.utils.data import Dataset, DataLoader\n",
    "import random\n",
    "import warnings\n",
    "warnings.filterwarnings('ignore')"
   ]
  },
  {
   "cell_type": "code",
   "execution_count": 2,
   "metadata": {},
   "outputs": [],
   "source": [
    "# Load intents from JSON file\n",
    "with open(\"../intents.json\", 'r') as file:\n",
    "    intents = json.load(file)"
   ]
  },
  {
   "cell_type": "code",
   "execution_count": 3,
   "metadata": {},
   "outputs": [
    {
     "name": "stderr",
     "output_type": "stream",
     "text": [
      "[nltk_data] Downloading package punkt to\n",
      "[nltk_data]     C:\\Users\\johnp\\AppData\\Roaming\\nltk_data...\n",
      "[nltk_data]   Package punkt is already up-to-date!\n",
      "[nltk_data] Downloading package wordnet to\n",
      "[nltk_data]     C:\\Users\\johnp\\AppData\\Roaming\\nltk_data...\n",
      "[nltk_data]   Package wordnet is already up-to-date!\n"
     ]
    },
    {
     "data": {
      "text/plain": [
       "True"
      ]
     },
     "execution_count": 3,
     "metadata": {},
     "output_type": "execute_result"
    }
   ],
   "source": [
    "nltk.download('punkt')\n",
    "nltk.download('wordnet')"
   ]
  },
  {
   "cell_type": "code",
   "execution_count": 4,
   "metadata": {},
   "outputs": [
    {
     "name": "stdout",
     "output_type": "stream",
     "text": [
      "1939 documents\n",
      "133 classes ['admission_admission/enrollmentprocedure_enrollment_graduate', 'admission_admission/enrollmentprocedure_enrollment_oldstudents', 'admission_admission/enrollmentprocedure_enrollment_scholars', 'admission_admission/enrollmentprocedure_foreign', 'admission_admission/enrollmentprocedure_freshmen', 'admission_contact_information_cafa', 'admission_contact_information_cavite', 'admission_contact_information_cie', 'admission_contact_information_cit', 'admission_contact_information_cla', 'admission_contact_information_coe', 'admission_contact_information_cos', 'admission_contact_information_eteeap', 'admission_contact_information_manila', 'admission_contact_information_office', 'admission_contact_information_taguig', 'admission_contact_information_visayas', 'admission_graduateprograms_admissionprocedure', 'admission_graduateprograms_contacts', 'admission_graduateprograms_officeofgraduateprograms', 'admission_graduateprograms_programsoffering', 'admission_graduateprograms_programsoffering_collegeofarchitectureandfinearts', 'admission_graduateprograms_programsoffering_collegeofengineering', 'admission_graduateprograms_programsoffering_collegeofindustrialeducation', 'admission_graduateprograms_programsoffering_collegeofindustrialtechnology', 'admission_graduateprograms_programsoffering_collegeofliberalarts', 'admission_graduateprograms_programsoffering_collegeofscience', 'admission_office', 'admission_undergraduate_procedure', 'admission_undergraduate_programs_requirements_cafa', 'admission_undergraduate_programs_requirements_cie', 'admission_undergraduate_programs_requirements_cit', 'admission_undergraduate_programs_requirements_cla', 'admission_undergraduate_programs_requirements_coe', 'admission_undergraduate_programs_requirements_cos', 'admission_undergraduate_tuition_fee', 'applicationscholarship_link', 'assessmentoffees_link', 'cafa_department_architecture', 'cafa_department_finearts', 'cafa_department_graphics', 'cafa_goals', 'cafa_history', 'cafa_objectives', 'cafa_undergrad_org', 'canteen', 'cie_department_homeeconomics', 'cie_department_professionalindustrialeducation', 'cie_department_studentteaching', 'cie_department_technicalarts', 'cie_goals', 'cie_history', 'cie_objectives', 'cie_undergrad_org', 'cit_department_basicindustrialtech', 'cit_department_civilengtech', 'cit_department_electricalengtech', 'cit_department_electronicsengtech', 'cit_department_foodtech', 'cit_department_graphicsandprinttech', 'cit_department_mechengtech', 'cit_department_powerplanttech', 'cit_goals', 'cit_history', 'cit_objectives', 'cit_undergrad_org', 'cla_department_entrepreneur', 'cla_department_languages', 'cla_department_physicaleducation', 'cla_department_socialscience', 'cla_goals', 'cla_history', 'cla_undergrad_org', 'class_outlook_for_graduate', 'class_starts', 'coe_department_civil', 'coe_department_electrical', 'coe_department_electronics', 'coe_department_mechanical', 'coe_goals', 'coe_history', 'coe_undergrad_org', 'cos_department_chemistry', 'cos_department_computerstudies', 'cos_department_mathematics', 'cos_department_physics', 'cos_goals', 'cos_history', 'cos_objectives', 'cos_undergrad_org', 'developers', 'expanded_tertiary', 'facilities', 'goodbye', 'greeting', 'happiness', 'hours', 'library', 'location', 'mode_of_classes', 'name', 'officials_academic_affairs', 'officials_admin_finance', 'officials_office_president', 'officials_planningDev_specialConcerns', 'officials_research_extensions', 'officials_top_management', 'osa_link', 'passing_rate', 'principal', 'redirection_cavitecampuslink', 'redirection_manilacampuslink', 'redirection_presidentupdates', 'redirection_serviceslinks', 'redirection_taguigcampuslink', 'redirection_visayascampuslink', 'salutation', 'school_news', 'strengths', 'studenthandbook', 'studentprivileges_link', 'studentscholarship_link', 'task', 'transferees_or_late_enrollees', 'tup_code', 'tup_core_values', 'tup_history', 'tup_hymn', 'tup_mandate', 'tup_mission', 'tup_quality_policy', 'tup_strategic_goals', 'tup_vision']\n",
      "1016 unique lemmatized words ['$', '&', \"'\", \"'and\", \"'d\", \"'m\", \"'s\", '(', ')', ',', '.', '12', '1518', '20', '2006', '2022', '4p', '9f', 'a', 'ability', 'about', 'academic', 'acceptance', 'accepted', 'access', 'accompany', 'accomplish', 'accomplishing', 'according', 'accountability', 'accountant', 'accounting', 'accreditation', 'achieve', 'achievement', 'acting', 'action', 'active', 'activity', 'additional', 'addmission', 'address', 'adios', 'adjustment', 'administration', 'administrative', 'administrator', 'admission', 'admission-related', 'admitted', 'advanced', 'adviser', 'affair', 'affected', 'affidavit', 'affiliated', 'after', 'again', 'aim', 'all', 'alumnus', 'am', 'ambassador', 'amenity', 'among', 'an', 'and', 'announcement', 'another', 'any', 'anyone', 'apart', 'apparel', 'applicant', 'application', 'apply', 'applying', 'approach', 'architecture', 'are', 'area', 'arise', 'around', 'arrangement', 'arranging', 'art', 'article', 'aspiration', 'ass', 'assessing', 'assessment', 'assist', 'assistance', 'assistanceship', 'assistant', 'associated', 'association', 'assurance', 'at', 'athletic', 'attend', 'attending', 'audit', 'authenticated', 'authentication', 'auxiliary', 'available', 'availing', 'award', 'awarded', 'bachelor', 'background', 'bank', 'barangay', 'based', 'basic', 'batangas', 'bayan', 'be', 'been', 'before', 'begin', 'behind', 'being', 'benchmark', 'benefit', 'bid', 'bidding', 'billing', 'birth', 'board', 'body', 'book', 'borrow', 'breakdown', 'brief', 'bring', 'budget', 'built', 'bureau', 'buzz', 'by', 'bye', 'cafa', 'cafetaria', 'calculated', 'call', 'called', 'campus', 'can', 'canteen', 'cao', 'capability', 'capable', 'card', 'care', 'career', 'carlson', 'case', 'cashier', 'catalog', 'catch', 'cavite', 'celebrate', 'center', 'certificate', 'chairperson', 'change', 'charge', 'charity', 'chatbot', 'chatbots', 'chatting', 'check', 'checklist', 'ched', 'chemistry', 'chi', 'chief', 'choice', 'cie', 'cie.', 'cit', 'citizen', 'civil', 'cla', 'claim', 'class', 'close', 'closed', 'club', 'code', 'coe', 'collaboration', 'collect', 'college', 'come', 'commitment', 'committee', 'common', 'commonly', 'communication', 'community', 'company', 'compared', 'competence', 'competitive', 'completing', 'completion', 'compliance', 'compliant', 'component', 'composed', 'composition', 'computer', 'concept', 'concern', 'condition', 'conduct', 'conducted', 'confirm', 'confirmation', 'confirms', 'consequence', 'considering', 'constitutes', 'contact', 'contacted', 'contacting', 'context', 'continually', 'contribute', 'contribution', 'control', 'conversion', 'cooperating', 'coordinating', 'coordinator', 'core', 'cost', 'could', 'counseling', 'course', 'covered', 'create', 'created', 'creation', 'creator', 'credit', 'criterion', 'cuenca', 'cultural', 'curator', 'curious', 'current', 'curricular', 'curriculum', 'customer', 'dance', 'day', 'deadline', 'dean', 'decree', 'dedicated', 'define', 'degree', 'delivered', 'demonstrate', 'dental', 'department', 'department/college', 'dependent', 'deportation', 'describe', 'designated', 'designation', 'designed', 'detail', 'developed', 'developer', 'development', 'did', 'differ', 'different', 'digitally', 'dinner', 'director', 'disciplinary', 'discipline', 'discount', 'distribution', 'do', 'doctor', 'doctoral', 'document', 'documentation', 'doe', 'done', 'due', 'during', 'duty', 'each', 'early', 'easy', 'economic', 'economics', 'education', 'educational', 'educator', 'effect', 'efficiently', 'effort', 'elaborate', 'electrical', 'electronic', 'electronics', 'eligibility', 'email', 'embraced', 'emphasize', 'emphasizes', 'employ', 'employed', 'employment', 'empowerment', 'enforce', 'engineering', 'english', 'enhance', 'enhancement', 'enjoy', 'enlist', 'enlistment', 'enlistment/enrollment', 'enroll', 'enrollee', 'enrollement', 'enrollemnt', 'enrollment', 'enrollnment', 'ensure', 'entail', 'entrance', 'entrepreneurship', 'entry', 'equipment', 'equivalent', 'er', 'essay', 'established', 'establishment', 'estimated', 'eteeap', 'evaluation', 'event', 'evolve', 'evolved', 'exam', 'examination', 'example', 'excel', 'executive', 'exemplary', 'exist', 'existence', 'expanded', 'expect', 'expected', 'expense', 'expensive', 'explain', 'explaining', 'extension', 'external', 'extracurricular', 'facility', 'faculty', 'faculty-in-charge', 'farewell', 'fee', 'female', 'fifth', 'filipino', 'filled', 'final', 'finance', 'financial', 'find', 'fine', 'first', 'focal', 'focus', 'focusing', 'followed', 'food', 'for', 'foreign', 'form', 'format', 'formation', 'founding', 'fourth', 'freshman', 'from', 'fulfill', 'full', 'function', 'future', 'gator', 'gender', 'general', 'get', 'give', 'go', 'goal', 'good', 'goodbye', 'goodnight', 'governance', 'governing', 'gpa', 'grade', 'graduate', 'graduate-level', 'grant', 'granted', 'graphic', 'great', 'group', 'guidance', 'guide', 'guideline', 'guiding', 'guy', 'ha', 'halal', 'hand', 'handbook', 'handle', 'handled', 'handling', 'happening', 'happy', 'have', 'head', 'heard', 'held', 'hello', 'help', 'here', 'heyy', 'hi', 'high', 'higher', 'hiring', 'historical', 'history', 'hold', 'home', 'hospitality', 'hour', 'how', 'human', 'hybrid', 'hymn', 'i', 'ict', 'id', 'identification', 'if', 'immigration', 'important', 'improve', 'improvement', 'in', 'in-person', 'inception', 'included', 'incorporates', 'increased', 'individual', 'individually', 'industrial', 'industry', 'influenced', 'inform', 'information', 'infrastructure', 'initial', 'initially', 'initiative', 'innovation', 'inquiry', 'institution', 'institutional', 'institutional/international', 'instruction', 'instructional', 'instructor', 'insurance', 'integrated', 'interested', 'interesting', 'internal', 'into', 'introduce', 'involved', 'is', 'iskolar', 'issuance', 'issued', 'it', 'itself', 'job', 'join', 'joining', 'journey', 'k', 'kalinangan', 'keep', 'key', 'kind', 'know', 'kwento', 'l.', 'language', 'late', 'lately', 'later', 'latest', 'lead', 'leading', 'learn', 'learning', 'lecture', 'lecturer', 'led', 'letter', 'level', 'liberal', 'library', 'licensing', 'life', 'like', 'link', 'linkage', 'list', 'literacy', 'located', 'location', 'long', 'look', 'looking', 'lopez', 'lose', 'made', 'mail', 'main', 'maintenance', 'major', 'make', 'manage', 'management', 'manages', 'mandate', 'manila', 'many', 'mark', 'marykay', 'master', 'masteral', 'mathematics', 'matter', 'may', 'me', 'measure', 'mechanical', 'medical', 'medical/dental', 'meet', 'member', 'mentioned', 'milestone', 'mind', 'minimum', 'missed', 'mission', 'mode', 'modernize', 'more', 'morning', 'mt', 'much', 'museum', 'music', 'must', 'my', 'name', 'national', 'navigating', 'necessary', 'need', 'needed', 'network', 'new', 'news', 'next', 'ng', 'ngo', 'ni', 'nice', 'no', 'non-competitive', 'non-scholar', 'notarized', 'notation', 'notice', 'now', 'nstp', 'number', 'objective', 'obligation', 'obtain', 'obtaining', 'occurred', 'of', 'off', 'offer', 'offered', 'offering', 'office', 'office/innovation', 'office/internal', 'officer', 'official', 'oic-head', 'ok', 'okay', 'okie', 'okk', 'old', 'oldstudents', 'ols', 'on', 'one', 'online', 'open', 'opening', 'operate', 'operating', 'operation', 'opportunity', 'option', 'or', 'order', 'organization', 'organizational', 'origin', 'original', 'osa', 'out', 'outcome', 'outline', 'outlined', 'outlining', 'outlook', 'outside', 'over', 'overarching', 'overseeing', 'oversees', 'overview', 'page', 'paper', 'part', 'participate', 'pas', 'passed', 'passing', 'passport', 'past', 'path', 'pay', 'paying', 'pcat', 'peace', 'pending', 'people', 'percentage', 'perform', 'period', 'person', 'personnel', 'philippine', 'phone', 'photocopied', 'photocopy', 'physic', 'physical', 'picture', 'place', 'placement', 'plan', 'planning', 'plant', 'please', 'point', 'policy', 'portal', 'position', 'possible', 'poverty', 'power', 'pre-registration', 'premier', 'prepare', 'preparing', 'prerequisite', 'present', 'presentation', 'presented', 'president', 'presidential', 'previous', 'prez', 'principal', 'principle', 'printing', 'priority', 'privilege', 'problem', 'procedure', 'proceed', 'process', 'processing', 'procurement', 'productivity', 'professional', 'professor', 'proficiency', 'program', 'programmed', 'project', 'promote', 'property', 'prospect', 'prove', 'provide', 'provided', 'providing', 'provision', 'purpose', 'pursue', 'pwd', 'qualification', 'qualified', 'qualify', 'quality', 'query', 'quezon', 'ramos', 'rate', 'rating', 'reach', 'reached', 'read', 'reading', 'received', 'receiving', 'recent', 'recently', 'recipient', 'recognition', 'recommendation', 'record', 'records/scholastic', 'redirect', 'reduction', 'reference', 'reflected', 'regarding', 'regent', 'registrar', 'registration', 'regular', 'regulatory', 'related', 'relation', 'rendition', 'repair', 'report', 'required', 'requirement', 'research', 'reserve', 'resource', 'respective', 'responsibility', 'responsible', 'result', 'review', 'revision', 'right', 'role', 'rule', 'saturday', 'schedule', 'scheduled', 'scheduling', 'scholar', 'scholarship', 'school', 'science', 'scientific', 'seal', 'sealed', 'seating', 'second', 'secretary', 'section', 'sector', 'secure', 'securing', 'security', 'see', 'seek', 'semester', 'senior', 'serf', 'serve', 'service', 'serving', 'set', 'shaped', 'share', 'should', 'shs', 'significance', 'significant', 'signing', 'size', 'slip', 'smooth', 'so', 'social', 'society', 'some', 'something', 'soon', 'space', 'special', 'specialization', 'specializing', 'specific', 'specifically', 'specified', 'sport', 'staff', 'stakeholder', 'stand', 'standard', 'start', 'starting', 'state', 'stated', 'statement', 'status', 'statutory', 'stay', 'step', 'still', 'story', 'strategic', 'strategy', 'strength', 'strengthen', 'structure', 'student', 'study', 'subject', 'submission', 'submit', 'submitted', 'success', 'successful', 'such', 'summarize', 'supervision', 'supply', 'support', 'symbolize', 'system', 'taguig', 'take', 'taken', 'taking', 'target', 'task', 'teach', 'teacher', 'teaching', 'team', 'technical', 'technological', 'technology', 'telephone', 'tell', 'term', 'tertiary', 'test', 'text', 'thank', 'thanks', 'that', 'the', 'their', 'them', 'there', 'these', 'they', 'third', 'this', 'through', 'time', 'timeline', 'timing', 'title', 'to', 'top', 'touch', 'towards', 'trade', 'training', 'transcript', 'transfer', 'transferee', 'transferring', 'transition', 'transparency', 'troupe', 'tsu', 'tuition', 'tup', 'tup-manila', 'tupgpat', 'tupians', 'tutorial', 'type', 'typical', 'typically', 'u', 'under', 'undergrad', 'undergraduate', 'understand', 'undertake', 'undertaken', 'uniform', 'unit', 'unity', 'university', 'university/board', 'until', 'up', 'update', 'updated', 'upon', 'usual', 'usually', 'validated', 'value', 'vary', 'vegetarian', 'version', 'via', 'viability', 'view', 'violating', 'visa', 'visa/visa', 'visayas', 'vision', 'visit', 'vocational', 'vp', 'wa', 'want', 'way', 'we', 'weather', 'webpage', 'website', 'week', 'weekend', 'well', 'were', 'what', 'whats', 'whatsup', 'when', 'where', 'wheres', 'which', 'who', 'whom', 'why', 'with', 'within', 'work', 'working', 'wrote', 'ya', 'year', 'you', 'your', 'yourself']\n"
     ]
    }
   ],
   "source": [
    "stemmer = WordNetLemmatizer()\n",
    "\n",
    "words = []\n",
    "classes = []\n",
    "documents = []\n",
    "ignore_words = ['?']\n",
    "\n",
    "\n",
    "for intent in intents['intents']:\n",
    "    for pattern in intent['patterns']:\n",
    "        # Tokenize each word in the sentence\n",
    "        w = nltk.word_tokenize(pattern)\n",
    "        # Add to our words list\n",
    "        words.extend(w)\n",
    "        # Add to documents in our corpus\n",
    "        documents.append((w, intent['tag']))\n",
    "        # Add to our classes list\n",
    "        if intent['tag'] not in classes:\n",
    "            classes.append(intent['tag'])\n",
    "\n",
    "\n",
    "words = [stemmer.lemmatize(w.lower()) for w in words if w not in ignore_words]\n",
    "words = sorted(list(set(words)))\n",
    "\n",
    "\n",
    "classes = sorted(list(set(classes)))\n",
    "\n",
    "print(len(documents), \"documents\")\n",
    "print(len(classes), \"classes\", classes)\n",
    "print(len(words), \"unique lemmatized words\", words)"
   ]
  },
  {
   "cell_type": "code",
   "execution_count": 6,
   "metadata": {},
   "outputs": [
    {
     "ename": "KeyboardInterrupt",
     "evalue": "",
     "output_type": "error",
     "traceback": [
      "\u001b[1;31m---------------------------------------------------------------------------\u001b[0m",
      "\u001b[1;31mKeyboardInterrupt\u001b[0m                         Traceback (most recent call last)",
      "Cell \u001b[1;32mIn[6], line 51\u001b[0m\n\u001b[0;32m     49\u001b[0m     augmented_sentences \u001b[38;5;241m=\u001b[39m synonym_replacement(tokens, limit_per_tag)\n\u001b[0;32m     50\u001b[0m     \u001b[38;5;28;01mfor\u001b[39;00m augmented_sentence \u001b[38;5;129;01min\u001b[39;00m augmented_sentences:\n\u001b[1;32m---> 51\u001b[0m         augmented_bag \u001b[38;5;241m=\u001b[39m [\u001b[38;5;241m1\u001b[39m \u001b[38;5;28;01mif\u001b[39;00m augmented_sentence\u001b[38;5;241m.\u001b[39mfind(word) \u001b[38;5;241m>\u001b[39m\u001b[38;5;241m=\u001b[39m \u001b[38;5;241m0\u001b[39m \u001b[38;5;28;01melse\u001b[39;00m \u001b[38;5;241m0\u001b[39m \u001b[38;5;28;01mfor\u001b[39;00m word \u001b[38;5;129;01min\u001b[39;00m words]\n\u001b[0;32m     52\u001b[0m         augmented_data\u001b[38;5;241m.\u001b[39mappend([augmented_bag, output_row])\n\u001b[0;32m     55\u001b[0m combined_data \u001b[38;5;241m=\u001b[39m np\u001b[38;5;241m.\u001b[39mconcatenate((training, augmented_data), axis\u001b[38;5;241m=\u001b[39m\u001b[38;5;241m0\u001b[39m)\n",
      "Cell \u001b[1;32mIn[6], line 51\u001b[0m, in \u001b[0;36m<listcomp>\u001b[1;34m(.0)\u001b[0m\n\u001b[0;32m     49\u001b[0m     augmented_sentences \u001b[38;5;241m=\u001b[39m synonym_replacement(tokens, limit_per_tag)\n\u001b[0;32m     50\u001b[0m     \u001b[38;5;28;01mfor\u001b[39;00m augmented_sentence \u001b[38;5;129;01min\u001b[39;00m augmented_sentences:\n\u001b[1;32m---> 51\u001b[0m         augmented_bag \u001b[38;5;241m=\u001b[39m [\u001b[38;5;241m1\u001b[39m \u001b[38;5;28;01mif\u001b[39;00m \u001b[43maugmented_sentence\u001b[49m\u001b[38;5;241;43m.\u001b[39;49m\u001b[43mfind\u001b[49m(word) \u001b[38;5;241m>\u001b[39m\u001b[38;5;241m=\u001b[39m \u001b[38;5;241m0\u001b[39m \u001b[38;5;28;01melse\u001b[39;00m \u001b[38;5;241m0\u001b[39m \u001b[38;5;28;01mfor\u001b[39;00m word \u001b[38;5;129;01min\u001b[39;00m words]\n\u001b[0;32m     52\u001b[0m         augmented_data\u001b[38;5;241m.\u001b[39mappend([augmented_bag, output_row])\n\u001b[0;32m     55\u001b[0m combined_data \u001b[38;5;241m=\u001b[39m np\u001b[38;5;241m.\u001b[39mconcatenate((training, augmented_data), axis\u001b[38;5;241m=\u001b[39m\u001b[38;5;241m0\u001b[39m)\n",
      "\u001b[1;31mKeyboardInterrupt\u001b[0m: "
     ]
    }
   ],
   "source": [
    "training = []\n",
    "output = []\n",
    "output_empty = [0] * len(classes)\n",
    "\n",
    "# Training set, bag of words for each sentence\n",
    "for doc in documents:\n",
    "    # Initialize our bag of words\n",
    "    bag = []\n",
    "    # List of tokenized words for the pattern\n",
    "    pattern_words = doc[0]\n",
    "    # Lemmatize each word\n",
    "    pattern_words = [stemmer.lemmatize(word.lower()) for word in pattern_words]\n",
    "    # Create our bag of words array\n",
    "    for w in words:\n",
    "        bag.append(1) if w in pattern_words else bag.append(0)\n",
    "\n",
    "    # Output is a '0' for each tag and '1' for the current tag\n",
    "    output_row = list(output_empty)\n",
    "    output_row[classes.index(doc[1])] = 1\n",
    "\n",
    "    training.append([bag, output_row])\n",
    "\n",
    "random.shuffle(training)\n",
    "\n",
    "\n",
    "def synonym_replacement(tokens, limit):\n",
    "    augmented_sentences = []\n",
    "    for i in range(len(tokens)):\n",
    "        synonyms = []\n",
    "        for syn in wordnet.synsets(tokens[i]):\n",
    "            for lemma in syn.lemmas():\n",
    "                synonyms.append(lemma.name())\n",
    "        if len(synonyms) > 0:\n",
    "            num_augmentations = min(limit, len(synonyms))\n",
    "            sampled_synonyms = random.sample(synonyms, num_augmentations)\n",
    "            for synonym in sampled_synonyms:\n",
    "                augmented_tokens = tokens[:i] + [synonym] + tokens[i + 1:]\n",
    "                augmented_sentences.append(' '.join(augmented_tokens))\n",
    "    return augmented_sentences\n",
    "\n",
    "\n",
    "# Augment the training data using synonym replacement\n",
    "augmented_data = []\n",
    "limit_per_tag = 100\n",
    "\n",
    "for i, doc in enumerate(training):\n",
    "    bag, output_row = doc\n",
    "    tokens = [words[j] for j in range(len(words)) if bag[j] == 1]\n",
    "    augmented_sentences = synonym_replacement(tokens, limit_per_tag)\n",
    "    for augmented_sentence in augmented_sentences:\n",
    "        augmented_bag = [1 if augmented_sentence.find(word) >= 0 else 0 for word in words]\n",
    "        augmented_data.append([augmented_bag, output_row])\n",
    "\n",
    "\n",
    "combined_data = np.concatenate((training, augmented_data), axis=0)\n",
    "# random.shuffle(combined_data)"
   ]
  },
  {
   "cell_type": "code",
   "execution_count": null,
   "metadata": {},
   "outputs": [],
   "source": []
  }
 ],
 "metadata": {
  "kernelspec": {
   "display_name": "pytorch",
   "language": "python",
   "name": "python3"
  },
  "language_info": {
   "codemirror_mode": {
    "name": "ipython",
    "version": 3
   },
   "file_extension": ".py",
   "mimetype": "text/x-python",
   "name": "python",
   "nbconvert_exporter": "python",
   "pygments_lexer": "ipython3",
   "version": "3.9.18"
  }
 },
 "nbformat": 4,
 "nbformat_minor": 2
}
